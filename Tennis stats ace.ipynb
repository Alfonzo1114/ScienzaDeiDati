{
 "cells": [
  {
   "cell_type": "code",
   "execution_count": null,
   "id": "414273f9",
   "metadata": {},
   "outputs": [],
   "source": [
    "import pandas as pd\n",
    "import numpy as np\n",
    "import matplotlib.pyplot as plt\n",
    "import seaborn as sns\n",
    "from sklearn.model_selection import train_test_split\n",
    "from sklearn.linear_model import LinearRegression"
   ]
  },
  {
   "cell_type": "markdown",
   "id": "5b98a95e",
   "metadata": {},
   "source": [
    "# Project Goals\n",
    "### The purpose of this analysis is: \n",
    "\n",
    "- Create a linear regression model that predicts the outcome for a tennis player based on their playing habits. \n",
    "- Determine which features help to predict the target value of winnings in USD.\n",
    "\n",
    "\n"
   ]
  },
  {
   "cell_type": "markdown",
   "id": "53dd6cb0",
   "metadata": {},
   "source": [
    "First, let's explore the dataset:"
   ]
  },
  {
   "cell_type": "code",
   "execution_count": null,
   "id": "500723e9",
   "metadata": {},
   "outputs": [],
   "source": [
    "df = pd.read_csv('tennis_stats.csv')\n",
    "display(df.head())   # Use display instead of print to show an HTML table\n",
    "display(df.info())   # info() to find non-null values and data types of each column"
   ]
  },
  {
   "cell_type": "markdown",
   "id": "c8727258",
   "metadata": {},
   "source": [
    "There is not missing data.\n",
    "Let's proceed with EDA:"
   ]
  },
  {
   "cell_type": "code",
   "execution_count": null,
   "id": "3741e798",
   "metadata": {},
   "outputs": [],
   "source": [
    "# Plot a graphical correlation matrix for each pair of columns in the dataframe\n",
    "corr = df.corr() # data frame correlation function\n",
    "# Let's check out the correlation among features for our target outcome Winnings:\n",
    "winnings = pd.DataFrame(round(corr['Winnings'], 3).drop('Winnings', axis = 0).reset_index())\n",
    "# Remove the Winnings category itself and sort those features with more importance\n",
    "winnings = winnings.sort_values(by = \"Winnings\", ascending = False)\n",
    "winnings"
   ]
  },
  {
   "cell_type": "code",
   "execution_count": null,
   "id": "e4382ce2",
   "metadata": {},
   "outputs": [],
   "source": [
    "# Now let's plot it\n",
    "plt.bar(winnings['index'], winnings.Winnings)\n",
    "plt.xticks(rotation = 90)\n",
    "plt.show()"
   ]
  },
  {
   "cell_type": "markdown",
   "id": "cd0e81f5",
   "metadata": {},
   "source": [
    "we will plot the features with a strong correlation (>0.80):\n",
    "- Wins\t*0.91*\n",
    "- ServiceGamesPlayed\t0.91\n",
    "- ReturnGamesPlayed\t0.91\n",
    "- BreakPointsOpportunities\t0.90\n",
    "- BreakPointsFaced\t0.88\n",
    "- Losses\t0.87\n",
    "- DoubleFaults\t0.85\n",
    "- Aces 0.80"
   ]
  },
  {
   "cell_type": "code",
   "execution_count": null,
   "id": "3898107e",
   "metadata": {},
   "outputs": [],
   "source": [
    "top_features = ['Wins', \n",
    "                'ServiceGamesPlayed', \n",
    "                'ReturnGamesPlayed',\n",
    "                'BreakPointsOpportunities', \n",
    "                'BreakPointsFaced', \n",
    "                'Losses', 'DoubleFaults', 'Aces']\n",
    "df_top = df[top_features]\n",
    "df_target = df[['Winnings']]"
   ]
  },
  {
   "cell_type": "markdown",
   "id": "18a6f5af",
   "metadata": {},
   "source": [
    "Scatter plot creation with the features with a correlation >= 0.80"
   ]
  },
  {
   "cell_type": "code",
   "execution_count": null,
   "id": "7efed6f2",
   "metadata": {},
   "outputs": [],
   "source": [
    "# perform exploratory analysis here:\n",
    "for feature in df_top.columns:\n",
    "    plt.figure(figsize = (5, 4))\n",
    "    plt.scatter(x = df_top[feature], y = df_target, alpha = 0.5)\n",
    "    plt.title(f\"{feature} vs Winnings\")\n",
    "    plt.show()"
   ]
  },
  {
   "cell_type": "markdown",
   "id": "29d3b7e2",
   "metadata": {},
   "source": [
    "# Regression model\n",
    "Let's use one feature from the dataset to build a single feature linear regression model on the data. The model, at this point, should use only one feature and predict the Winnngs($USD) columns. Before training the model, split we will split data into training and test datasets so that you we may evaluate our model on the test set."
   ]
  },
  {
   "cell_type": "code",
   "execution_count": null,
   "id": "5a3d4569",
   "metadata": {},
   "outputs": [],
   "source": [
    "feature = 'ServiceGamesPlayed'\n",
    "X = np.array(df[feature])\n",
    "X = X.reshape(-1, 1)\n",
    "y = df_target.copy()\n",
    "\n",
    "# Setting the test size as 80% and creating a seed for repeatable results\n",
    "X_train, X_test, y_train, y_test = train_test_split(X, y, test_size = 0.8,\n",
    "random_state = 27)\n",
    "\n",
    "reg_all = LinearRegression()        #Creating the model\n",
    "reg_all.fit(X_train, y_train)       #Fitting the model to our training data\n",
    "y_pred = reg_all.predict(X_test)    #Predicting the y values using our test data"
   ]
  },
  {
   "cell_type": "markdown",
   "id": "949390df",
   "metadata": {},
   "source": [
    "### How does our model perform? "
   ]
  },
  {
   "cell_type": "code",
   "execution_count": null,
   "id": "fda323a8",
   "metadata": {},
   "outputs": [],
   "source": [
    "reg_all.score(X_test, y_test)"
   ]
  },
  {
   "cell_type": "markdown",
   "id": "a9738bba",
   "metadata": {},
   "source": [
    "Plotting our model’s predictions on the test set against the actual outcome variable to visualize the performance."
   ]
  },
  {
   "cell_type": "code",
   "execution_count": null,
   "id": "b4ecc148",
   "metadata": {},
   "outputs": [],
   "source": [
    "# plot predictions against actual winnings\n",
    "plt.scatter(x = y_pred, y = y_test, alpha = 0.5)\n",
    "plt.xlabel('Actual Winnings')\n",
    "plt.ylabel(feature)\n",
    "plt.show()"
   ]
  },
  {
   "cell_type": "markdown",
   "id": "c89e85c1",
   "metadata": {},
   "source": [
    "### Plotting "
   ]
  },
  {
   "cell_type": "code",
   "execution_count": null,
   "id": "804b3b8d",
   "metadata": {},
   "outputs": [],
   "source": [
    "plt.scatter(X_test, y_test, alpha = 0.5)\n",
    "plt.plot(X_test, y_pred, color = 'red')\n",
    "plt.xlabel(feature)\n",
    "plt.ylabel('Actual Winnings ($USD)')\n",
    "plt.show()"
   ]
  },
  {
   "cell_type": "markdown",
   "id": "648e3428",
   "metadata": {},
   "source": [
    "Let's create a few more linear regression models that use one feature to predict one of the outcomes. Which model that you create is the best?\n",
    "\n",
    "#### Feature - 'Wins'"
   ]
  },
  {
   "cell_type": "code",
   "execution_count": null,
   "id": "504d6c3a",
   "metadata": {},
   "outputs": [],
   "source": [
    "feature = 'Wins'\n",
    "X = np.array(df[feature])\n",
    "X = X.reshape(-1, 1)\n",
    "y = df_target.copy()\n",
    "\n",
    "from sklearn.model_selection import train_test_split\n",
    "from sklearn.linear_model import LinearRegression\n",
    "\n",
    "X_train, X_test, y_train, y_test = train_test_split(X, y, test_size = 0.8,\n",
    "random_state = 27)\n",
    "\n",
    "reg_all = LinearRegression()\n",
    "reg_all.fit(X_train, y_train)\n",
    "y_pred = reg_all.predict(X_test)\n",
    "reg_all.score(X_test, y_test)"
   ]
  },
  {
   "cell_type": "code",
   "execution_count": null,
   "id": "664bf899",
   "metadata": {},
   "outputs": [],
   "source": [
    "plt.scatter(X_test, y_test, alpha = 0.5)\n",
    "plt.plot(X_test, y_pred, color = 'red')\n",
    "plt.xlabel(feature)\n",
    "plt.ylabel('Actual Winnings ($USD)')\n",
    "plt.show()"
   ]
  },
  {
   "cell_type": "markdown",
   "id": "603f8cd5",
   "metadata": {},
   "source": [
    "#### Feature - 'ReturnGamesPlayed'"
   ]
  },
  {
   "cell_type": "code",
   "execution_count": null,
   "id": "f5221a7d",
   "metadata": {},
   "outputs": [],
   "source": [
    "feature = 'ReturnGamesPlayed'\n",
    "X = np.array(df[feature])\n",
    "X = X.reshape(-1, 1)\n",
    "y = df_target.copy()\n",
    "\n",
    "from sklearn.model_selection import train_test_split\n",
    "from sklearn.linear_model import LinearRegression\n",
    "\n",
    "X_train, X_test, y_train, y_test = train_test_split(X, y, test_size = 0.8,\n",
    "random_state = 27)\n",
    "\n",
    "reg_all = LinearRegression()\n",
    "reg_all.fit(X_train, y_train)\n",
    "y_pred = reg_all.predict(X_test)\n",
    "reg_all.score(X_test, y_test)"
   ]
  },
  {
   "cell_type": "code",
   "execution_count": null,
   "id": "f62c2dc2",
   "metadata": {},
   "outputs": [],
   "source": [
    "plt.scatter(X_test, y_test, alpha = 0.5)\n",
    "plt.plot(X_test, y_pred, color = 'red')\n",
    "plt.xlabel(feature)\n",
    "plt.ylabel('Actual Winnings ($USD)')\n",
    "plt.show()"
   ]
  },
  {
   "cell_type": "markdown",
   "id": "ac81e983",
   "metadata": {},
   "source": [
    "#### Feature - 'BreakPointsOpportunities'"
   ]
  },
  {
   "cell_type": "code",
   "execution_count": null,
   "id": "3bac062e",
   "metadata": {},
   "outputs": [],
   "source": [
    "feature = 'BreakPointsOpportunities'\n",
    "X = np.array(df[feature])\n",
    "X = X.reshape(-1, 1)\n",
    "y = df_target.copy()\n",
    "\n",
    "from sklearn.model_selection import train_test_split\n",
    "from sklearn.linear_model import LinearRegression\n",
    "\n",
    "X_train, X_test, y_train, y_test = train_test_split(X, y, test_size = 0.8,\n",
    "random_state = 27)\n",
    "\n",
    "reg_all = LinearRegression()\n",
    "reg_all.fit(X_train, y_train)\n",
    "y_pred = reg_all.predict(X_test)\n",
    "reg_all.score(X_test, y_test)"
   ]
  },
  {
   "cell_type": "code",
   "execution_count": null,
   "id": "5a984712",
   "metadata": {},
   "outputs": [],
   "source": [
    "plt.scatter(X_test, y_test, alpha = 0.5)\n",
    "plt.plot(X_test, y_pred, color = 'red')\n",
    "plt.xlabel(feature)\n",
    "plt.ylabel('Actual Winnings ($USD)')\n",
    "plt.show()"
   ]
  },
  {
   "cell_type": "markdown",
   "id": "32d51bc9",
   "metadata": {},
   "source": [
    "Now, let's create a few linear regression models that use two features to predict yearly earnings. Which set of two features results in the best model?"
   ]
  },
  {
   "cell_type": "code",
   "execution_count": null,
   "id": "d4f8bd7c",
   "metadata": {},
   "outputs": [],
   "source": [
    "feature = ['ServiceGamesPlayed', 'ReturnGamesPlayed']\n",
    "X = np.array(df[feature])\n",
    "#X = X.reshape(-1, 1)\n",
    "y = df_target.copy()\n",
    "\n",
    "from sklearn.model_selection import train_test_split\n",
    "from sklearn.linear_model import LinearRegression\n",
    "\n",
    "X_train, X_test, y_train, y_test = train_test_split(X, y, test_size = 0.8,\n",
    "random_state = 27)\n",
    "\n",
    "reg_all = LinearRegression()\n",
    "reg_all.fit(X_train, y_train)\n",
    "y_pred = reg_all.predict(X_test)\n",
    "reg_all.score(X_test, y_test)"
   ]
  },
  {
   "cell_type": "code",
   "execution_count": null,
   "id": "54d25eb6",
   "metadata": {},
   "outputs": [],
   "source": [
    "## perform two feature linear regressions here:\n",
    "feature = ['BreakPointsOpportunities', 'ReturnGamesPlayed']\n",
    "X = np.array(df[feature])\n",
    "#X = X.reshape(-1, 1)\n",
    "y = df_target.copy()\n",
    "\n",
    "from sklearn.model_selection import train_test_split\n",
    "from sklearn.linear_model import LinearRegression\n",
    "\n",
    "X_train, X_test, y_train, y_test = train_test_split(X, y, test_size = 0.8,\n",
    "random_state = 27)\n",
    "\n",
    "reg_all = LinearRegression()\n",
    "reg_all.fit(X_train, y_train)\n",
    "y_pred = reg_all.predict(X_test)\n",
    "reg_all.score(X_test, y_test)"
   ]
  },
  {
   "cell_type": "code",
   "execution_count": null,
   "id": "6a5123bd",
   "metadata": {},
   "outputs": [],
   "source": [
    "feature = ['ServiceGamesPlayed', 'BreakPointsOpportunities']\n",
    "X = np.array(df[feature])\n",
    "#X = X.reshape(-1, 1)\n",
    "y = df_target.copy()\n",
    "\n",
    "from sklearn.model_selection import train_test_split\n",
    "from sklearn.linear_model import LinearRegression\n",
    "\n",
    "X_train, X_test, y_train, y_test = train_test_split(X, y, test_size = 0.8,\n",
    "random_state = 27)\n",
    "\n",
    "reg_all = LinearRegression()\n",
    "reg_all.fit(X_train, y_train)\n",
    "y_pred = reg_all.predict(X_test)\n",
    "reg_all.score(X_test, y_test)"
   ]
  },
  {
   "cell_type": "markdown",
   "id": "8bfb815f",
   "metadata": {},
   "source": [
    "### Finally, we will create a multiple feature linear regression using our eight top features:"
   ]
  },
  {
   "cell_type": "code",
   "execution_count": null,
   "id": "0156fed7",
   "metadata": {},
   "outputs": [],
   "source": [
    "## perform multiple feature linear regressions here:\n",
    "feature = ['Wins', \n",
    "                'ServiceGamesPlayed', \n",
    "                'ReturnGamesPlayed',\n",
    "                'BreakPointsOpportunities', \n",
    "                'BreakPointsFaced', \n",
    "                'Losses', 'DoubleFaults', 'Aces']\n",
    "X = np.array(df[feature])\n",
    "#X = X.reshape(-1, 1)\n",
    "y = df_target.copy()\n",
    "\n",
    "X_train, X_test, y_train, y_test = train_test_split(X, y, test_size = 0.8,\n",
    "random_state = 27)\n",
    "\n",
    "reg_all = LinearRegression()\n",
    "reg_all.fit(X_train, y_train)\n",
    "y_pred = reg_all.predict(X_test)\n",
    "reg_all.score(X_test, y_test)"
   ]
  },
  {
   "cell_type": "code",
   "execution_count": null,
   "id": "e1e6d786",
   "metadata": {},
   "outputs": [],
   "source": [
    "plt.scatter(y_test, y_pred, alpha = 0.5, color = 'green')\n",
    "plt.title('Predicted Winnings vs. Actual Winnings - Multiple Features')\n",
    "plt.xlabel('Actual Winnings')\n",
    "plt.ylabel('Predicted Winnings')\n",
    "plt.show()\n",
    "plt.clf()"
   ]
  },
  {
   "cell_type": "code",
   "execution_count": null,
   "id": "31c5ff45",
   "metadata": {},
   "outputs": [],
   "source": []
  }
 ],
 "metadata": {
  "kernelspec": {
   "display_name": "Python 3 (ipykernel)",
   "language": "python",
   "name": "python3"
  },
  "language_info": {
   "codemirror_mode": {
    "name": "ipython",
    "version": 3
   },
   "file_extension": ".py",
   "mimetype": "text/x-python",
   "name": "python",
   "nbconvert_exporter": "python",
   "pygments_lexer": "ipython3",
   "version": "3.9.13"
  }
 },
 "nbformat": 4,
 "nbformat_minor": 5
}
